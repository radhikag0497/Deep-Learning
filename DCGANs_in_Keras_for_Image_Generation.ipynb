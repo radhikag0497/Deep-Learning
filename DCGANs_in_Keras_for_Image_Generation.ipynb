{
  "nbformat": 4,
  "nbformat_minor": 0,
  "metadata": {
    "accelerator": "GPU",
    "colab": {
      "name": " Implementing DCGANs in Keras.ipynb",
      "provenance": []
    },
    "kernelspec": {
      "display_name": "Python 3",
      "name": "python3"
    }
  },
  "cells": [
    {
      "cell_type": "code",
      "metadata": {
        "id": "BTy9fz9cZhZq"
      },
      "source": [
        "# Nicely formatted time string\r\n",
        "def hms_string(sec_elapsed):\r\n",
        "    h = int(sec_elapsed / (60 * 60))\r\n",
        "    m = int((sec_elapsed % (60 * 60)) / 60)\r\n",
        "    s = sec_elapsed % 60\r\n",
        "    return \"{}:{:>02}:{:>05.2f}\".format(h, m, s)"
      ],
      "execution_count": 1,
      "outputs": []
    },
    {
      "cell_type": "markdown",
      "metadata": {
        "id": "WHoW8V5TnnsQ"
      },
      "source": [
        "# Implementing DCGANs in Keras"
      ]
    },
    {
      "cell_type": "code",
      "metadata": {
        "colab": {
          "base_uri": "https://localhost:8080/"
        },
        "id": "809RX94TPKsn",
        "outputId": "98da0845-f0cc-4fa0-f935-a1caaa3b8c12"
      },
      "source": [
        "try:\r\n",
        "    from google.colab import drive\r\n",
        "    drive.mount('/content/drive', force_remount=True)\r\n",
        "    COLAB = True\r\n",
        "    print(\"Note: using Google CoLab\")\r\n",
        "    %tensorflow_version 2.x\r\n",
        "except:\r\n",
        "    print(\"Note: not using Google CoLab\")\r\n",
        "    COLAB = False"
      ],
      "execution_count": 2,
      "outputs": [
        {
          "output_type": "stream",
          "text": [
            "Mounted at /content/drive\n",
            "Note: using Google CoLab\n"
          ],
          "name": "stdout"
        }
      ]
    },
    {
      "cell_type": "code",
      "metadata": {
        "id": "_0QUnIzHYzs6"
      },
      "source": [
        "import tensorflow as tf\r\n",
        "from tensorflow.keras.layers import Input, Reshape, Dropout, Dense \r\n",
        "from tensorflow.keras.layers import Flatten, BatchNormalization\r\n",
        "from tensorflow.keras.layers import Activation, ZeroPadding2D\r\n",
        "from tensorflow.keras.layers import LeakyReLU\r\n",
        "from tensorflow.keras.layers import UpSampling2D, Conv2D\r\n",
        "from tensorflow.keras.models import Sequential, Model, load_model\r\n",
        "from tensorflow.keras.optimizers import Adam\r\n",
        "import numpy as np\r\n",
        "from PIL import Image\r\n",
        "from tqdm import tqdm\r\n",
        "import os \r\n",
        "import time\r\n",
        "import matplotlib.pyplot as plt"
      ],
      "execution_count": 3,
      "outputs": []
    },
    {
      "cell_type": "code",
      "metadata": {
        "colab": {
          "base_uri": "https://localhost:8080/"
        },
        "id": "TZWDEy0t3v1B",
        "outputId": "9409a7f5-73ff-4724-bf7d-768ae13aaf92"
      },
      "source": [
        "# Generation resolution - Must be square \r\n",
        "# Training data is also scaled to this.\r\n",
        "# Note GENERATE_RES 4 or higher wll blow Google CoLab's memory and have not been tested extensivly.\r\n",
        "\r\n",
        "GENERATE_RES = 2 # Generation resolution factor \r\n",
        "# (1=32, 2=64, 3=96, 4=128, etc.)\r\n",
        "GENERATE_SQUARE = 32 * GENERATE_RES  # rows/cols (should be square)\r\n",
        "IMAGE_CHANNELS = 3\r\n",
        "\r\n",
        "# Preview image \r\n",
        "PREVIEW_ROWS = 4\r\n",
        "PREVIEW_COLS = 7\r\n",
        "PREVIEW_MARGIN = 16\r\n",
        "\r\n",
        "# Size vector to generate images from\r\n",
        "SEED_SIZE = 100\r\n",
        "\r\n",
        "# Configuration\r\n",
        "DATA_PATH = '/content/drive/My Drive/projects/faces'\r\n",
        "EPOCHS = 50\r\n",
        "BATCH_SIZE = 32\r\n",
        "BUFFER_SIZE = 60000\r\n",
        "\r\n",
        "print(f\"Will generate {GENERATE_SQUARE}px square images.\")"
      ],
      "execution_count": 4,
      "outputs": [
        {
          "output_type": "stream",
          "text": [
            "Will generate 64px square images.\n"
          ],
          "name": "stdout"
        }
      ]
    },
    {
      "cell_type": "code",
      "metadata": {
        "colab": {
          "base_uri": "https://localhost:8080/"
        },
        "id": "hA8YsgxO5nRJ",
        "outputId": "202ec165-7334-40db-d3d3-da2ccad45302"
      },
      "source": [
        "# Image set has 11,682 images.  Can take over an hour \r\n",
        "# for initial preprocessing.\r\n",
        "# Because of this time needed, save a Numpy preprocessed file.\r\n",
        "# Note, that file is large enough to cause problems for \r\n",
        "# sume verisons of Pickle,\r\n",
        "# so Numpy binary files are used.\r\n",
        "\r\n",
        "training_binary_path = os.path.join(DATA_PATH, f'training_data_{GENERATE_SQUARE}_{GENERATE_SQUARE}.npy')\r\n",
        "print(f'Looking for file: {training_binary_path}')\r\n",
        "\r\n",
        "if not os.path.isfile(training_binary_path):\r\n",
        "    start = time.time()\r\n",
        "    print(\"Loading training images...\")\r\n",
        "\r\n",
        "    training_data = []\r\n",
        "    faces_path = os.path.join(DATA_PATH,'face_images')\r\n",
        "    for filename in tqdm(os.listdir(faces_path)):\r\n",
        "        path = os.path.join(faces_path, filename)\r\n",
        "        image = Image.open(path).resize((GENERATE_SQUARE,\r\n",
        "                                         GENERATE_SQUARE), Image.ANTIALIAS)\r\n",
        "        training_data.append(np.asarray(image))\r\n",
        "    training_data = np.reshape(training_data, (-1, GENERATE_SQUARE, GENERATE_SQUARE, IMAGE_CHANNELS))\r\n",
        "    training_data = training_data.astype(np.float32)\r\n",
        "    training_data = training_data/127.5 - 1.\r\n",
        "\r\n",
        "    print('Saving training image binary...')\r\n",
        "    np.save(training_binary_path, training_data)\r\n",
        "\r\n",
        "    elapsed = time.time() - start\r\n",
        "    print(f'Image preprocess time: {hms_string(elapsed)}')\r\n",
        "else:\r\n",
        "    print('Loading previous training pickle...')\r\n",
        "    training_data = np.load(training_binary_path)"
      ],
      "execution_count": 5,
      "outputs": [
        {
          "output_type": "stream",
          "text": [
            "Looking for file: /content/drive/My Drive/projects/faces/training_data_64_64.npy\n",
            "Loading previous training pickle...\n"
          ],
          "name": "stdout"
        }
      ]
    },
    {
      "cell_type": "code",
      "metadata": {
        "id": "wX8s78ZIPtZb"
      },
      "source": [
        "# Batch and shuffle the data\r\n",
        "train_dataset = tf.data.Dataset.from_tensor_slices(training_data).shuffle(BUFFER_SIZE).batch(BATCH_SIZE) \r\n"
      ],
      "execution_count": 6,
      "outputs": []
    },
    {
      "cell_type": "markdown",
      "metadata": {
        "id": "Zj8C0kG_QWNT"
      },
      "source": [
        "\r\n",
        "The code below creates the generator and discriminator.\r\n",
        "\r\n",
        "Next we actually build the discriminator and the generator. Both will be trained with the Adam optimizer."
      ]
    },
    {
      "cell_type": "code",
      "metadata": {
        "id": "o6CDm61OQSzr"
      },
      "source": [
        "def build_generator(seed_size, channels):\r\n",
        "    model = Sequential()\r\n",
        "\r\n",
        "    model.add(Dense(4*4*256, activation='relu', input_dim=seed_size))\r\n",
        "    model.add(Reshape((4,4,256)))\r\n",
        "\r\n",
        "    model.add(UpSampling2D())\r\n",
        "    model.add(Conv2D(256, kernel_size=3, padding='same'))\r\n",
        "    model.add(BatchNormalization(momentum=0.8))\r\n",
        "    model.add(Activation('relu'))\r\n",
        "\r\n",
        "    model.add(UpSampling2D())\r\n",
        "    model.add(Conv2D(256, kernel_size=3,padding='same'))\r\n",
        "    model.add(BatchNormalization(momentum=0.8))\r\n",
        "    model.add(Activation('relu'))\r\n",
        "\r\n",
        "    # Output resolution, additional upsampling\r\n",
        "    model.add(UpSampling2D())\r\n",
        "    model.add(Conv2D(128,kernel_size=3, padding='same'))\r\n",
        "    model.add(BatchNormalization(momentum=0.8))\r\n",
        "    model.add(Activation('relu'))\r\n",
        "\r\n",
        "    if GENERATE_RES > 1:\r\n",
        "        model.add(UpSampling2D(size=(GENERATE_RES, GENERATE_RES)))\r\n",
        "        model.add(Conv2D(128,kernel_size=3, padding='same'))\r\n",
        "        model.add(BatchNormalization(momentum=0.8))\r\n",
        "        model.add(Activation('relu'))\r\n",
        "\r\n",
        "    # Final CNN layer\r\n",
        "    model.add(Conv2D(channels, kernel_size=3, padding='same'))\r\n",
        "    model.add(Activation('tanh'))\r\n",
        "\r\n",
        "    return model\r\n",
        "\r\n",
        "def build_discriminator(image_shape):\r\n",
        "    model = Sequential()\r\n",
        "\r\n",
        "    model.add(Conv2D(32, kernel_size=3, strides=2, input_shape=image_shape, padding='same'))\r\n",
        "    model.add(LeakyReLU(alpha=0.2))\r\n",
        "\r\n",
        "    model.add(Dropout(0.25))\r\n",
        "    model.add(Conv2D(64, kernel_size=3, strides=2, padding='same'))\r\n",
        "    model.add(ZeroPadding2D(padding=((0,1),(0,1))))\r\n",
        "    model.add(BatchNormalization(momentum=0.8))\r\n",
        "    model.add(LeakyReLU(alpha=0.2))\r\n",
        "\r\n",
        "    model.add(Dropout(0.25))\r\n",
        "    model.add(Conv2D(128, kernel_size=3, strides=2, padding='same'))\r\n",
        "    model.add(BatchNormalization(momentum=0.8))\r\n",
        "    model.add(LeakyReLU(alpha=0.2))\r\n",
        "\r\n",
        "    model.add(Dropout(0.25))\r\n",
        "    model.add(Conv2D(256, kernel_size=3, strides=2, padding='same'))\r\n",
        "    model.add(BatchNormalization(momentum=0.8))\r\n",
        "    model.add(LeakyReLU(alpha=0.2))\r\n",
        "\r\n",
        "    model.add(Dropout(0.25))\r\n",
        "    model.add(Conv2D(512, kernel_size=3, strides=2, padding='same'))\r\n",
        "    model.add(BatchNormalization(momentum=0.8))\r\n",
        "    model.add(LeakyReLU(alpha=0.2))\r\n",
        "\r\n",
        "    model.add(Dropout(0.25))\r\n",
        "    model.add(Flatten())\r\n",
        "    model.add(Dense(1, activation='sigmoid'))\r\n",
        "\r\n",
        "    return model"
      ],
      "execution_count": 7,
      "outputs": []
    },
    {
      "cell_type": "markdown",
      "metadata": {
        "id": "cWbMyPqyUfMk"
      },
      "source": [
        "As we progress through training images will be produced to show the progress. These images will contain a number of rendered faces that show how good the generator has become. These faces will be"
      ]
    },
    {
      "cell_type": "code",
      "metadata": {
        "id": "t8vh2Hftnvls"
      },
      "source": [
        "def save_images(cnt,noise):\r\n",
        "  image_array = np.full(( \r\n",
        "      PREVIEW_MARGIN + (PREVIEW_ROWS * (GENERATE_SQUARE+PREVIEW_MARGIN)), \r\n",
        "      PREVIEW_MARGIN + (PREVIEW_COLS * (GENERATE_SQUARE+PREVIEW_MARGIN)), 3), \r\n",
        "      255, dtype=np.uint8)\r\n",
        "  \r\n",
        "  generated_images = generator.predict(noise)\r\n",
        "\r\n",
        "  generated_images = 0.5 * generated_images + 0.5\r\n",
        "\r\n",
        "  image_count = 0\r\n",
        "  for row in range(PREVIEW_ROWS):\r\n",
        "      for col in range(PREVIEW_COLS):\r\n",
        "        r = row * (GENERATE_SQUARE+16) + PREVIEW_MARGIN\r\n",
        "        c = col * (GENERATE_SQUARE+16) + PREVIEW_MARGIN\r\n",
        "        image_array[r:r+GENERATE_SQUARE,c:c+GENERATE_SQUARE] \\\r\n",
        "            = generated_images[image_count] * 255\r\n",
        "        image_count += 1\r\n",
        "\r\n",
        "          \r\n",
        "  output_path = os.path.join(DATA_PATH,'output')\r\n",
        "  if not os.path.exists(output_path):\r\n",
        "    os.makedirs(output_path)\r\n",
        "  \r\n",
        "  filename = os.path.join(output_path,f\"train-{cnt}.png\")\r\n",
        "  im = Image.fromarray(image_array)\r\n",
        "  im.save(filename)"
      ],
      "execution_count": 19,
      "outputs": []
    },
    {
      "cell_type": "code",
      "metadata": {
        "id": "_Qy_Q1VnUhev"
      },
      "source": [
        "# def save_images(cnt, noise):\r\n",
        "#     image_array = np.full((\r\n",
        "#         PREVIEW_MARGIN + (PREVIEW_ROWS * (GENERATE_SQUARE+PREVIEW_MARGIN)),\r\n",
        "#         PREVIEW_MARGIN + (PREVIEW_ROWS * (GENERATE_SQUARE+PREVIEW_MARGIN)),\r\n",
        "#     3), 255, dtype=np.uint8)\r\n",
        "\r\n",
        "#     generated_images = generator.predict(noise)\r\n",
        "#     generated_images = 0.5*generated_images + 0.5\r\n",
        "\r\n",
        "#     image_count = 0\r\n",
        "#     for row in range(PREVIEW_ROWS):\r\n",
        "#         for col in range(PREVIEW_COLS):\r\n",
        "#             r = row*(GENERATE_SQUARE+16) + PREVIEW_MARGIN\r\n",
        "#             c = col*(GENERATE_SQUARE+16) + PREVIEW_MARGIN\r\n",
        "#             image_array[r:r+GENERATE_SQUARE, c:c+GENERATE_SQUARE] = generated_images[image_count]*255\r\n",
        "#             image_count += 1\r\n",
        "\r\n",
        "#     output_path = os.path.join(DATA_PATH, 'output')\r\n",
        "#     if not os.path.exists(output_path):\r\n",
        "#         os.makedirs(output_path)\r\n",
        "\r\n",
        "#     filename = os.path.join(output_path, f'train-{cnt}.png')\r\n",
        "#     im = Image.fromarray(image_array)\r\n",
        "#     im.save(filename)"
      ],
      "execution_count": 9,
      "outputs": []
    },
    {
      "cell_type": "code",
      "metadata": {
        "id": "FVPGOr52WdWC",
        "colab": {
          "base_uri": "https://localhost:8080/",
          "height": 285
        },
        "outputId": "cc18b7dd-4d64-4536-ca18-88a9b0040b89"
      },
      "source": [
        "generator = build_generator(SEED_SIZE, IMAGE_CHANNELS)\r\n",
        "\r\n",
        "noise = tf.random.normal([1, SEED_SIZE])\r\n",
        "generated_image = generator(noise, training = False)\r\n",
        "\r\n",
        "plt.imshow(generated_image[0, :, :, 0])"
      ],
      "execution_count": 10,
      "outputs": [
        {
          "output_type": "execute_result",
          "data": {
            "text/plain": [
              "<matplotlib.image.AxesImage at 0x7f55701dbd50>"
            ]
          },
          "metadata": {
            "tags": []
          },
          "execution_count": 10
        },
        {
          "output_type": "display_data",
          "data": {
            "image/png": "[encoded data removed]",
            "text/plain": [
              "<Figure size 432x288 with 1 Axes>"
            ]
          },
          "metadata": {
            "tags": [],
            "needs_background": "light"
          }
        }
      ]
    },
    {
      "cell_type": "code",
      "metadata": {
        "id": "dgN3f6y5W92p",
        "colab": {
          "base_uri": "https://localhost:8080/"
        },
        "outputId": "2482e0de-e370-44af-cdb3-e7c45be5b7e5"
      },
      "source": [
        "image_shape = (GENERATE_SQUARE, GENERATE_SQUARE, IMAGE_CHANNELS)\r\n",
        "\r\n",
        "discriminator = build_discriminator(image_shape)\r\n",
        "decision = discriminator(generated_image)\r\n",
        "print(decision)"
      ],
      "execution_count": 11,
      "outputs": [
        {
          "output_type": "stream",
          "text": [
            "tf.Tensor([[0.4998321]], shape=(1, 1), dtype=float32)\n"
          ],
          "name": "stdout"
        }
      ]
    },
    {
      "cell_type": "markdown",
      "metadata": {
        "id": "1iaRqC4kXYQe"
      },
      "source": [
        ""
      ]
    },
    {
      "cell_type": "code",
      "metadata": {
        "id": "f0KuIQE6XUOG"
      },
      "source": [
        "# This method returns a helper function to compute cross entropy loss\r\n",
        "cross_entropy = tf.keras.losses.BinaryCrossentropy()\r\n",
        "\r\n",
        "def discriminator_loss(real_output, fake_output):\r\n",
        "    real_loss = cross_entropy(tf.ones_like(real_output), real_output)\r\n",
        "    fake_loss = cross_entropy(tf.zeros_like(fake_output), fake_output)\r\n",
        "\r\n",
        "    total_loss = real_loss + fake_loss\r\n",
        "    return total_loss\r\n",
        "\r\n",
        "def generator_loss(fake_output):\r\n",
        "    return cross_entropy(tf.ones_like(fake_output), fake_output)"
      ],
      "execution_count": 12,
      "outputs": []
    },
    {
      "cell_type": "code",
      "metadata": {
        "id": "sv7PLYtXYVVJ"
      },
      "source": [
        "generator_optimizer = tf.keras.optimizers.Adam(1.5e-4, 0.5)\r\n",
        "discriminator_optimizer = tf.keras.optimizers.Adam(1.5e-4, 0.5)"
      ],
      "execution_count": 13,
      "outputs": []
    },
    {
      "cell_type": "markdown",
      "metadata": {
        "id": "OCwNQDUkjhVI"
      },
      "source": [
        "The following function is where most of the training takes place for both the discriminator and the generator. This function was based on the GAN\r\n",
        "\r\n",
        "tf.function annotation: causes the function to be precompiled and improves performance.\r\n",
        "\r\n",
        "This code makes use of GradientTape to allow the discriminator and generator to be trained together, yet separately."
      ]
    },
    {
      "cell_type": "code",
      "metadata": {
        "id": "7Zt19_r1glHy"
      },
      "source": [
        "# Notice the use of `tf.function`\r\n",
        "# This annotation causes the function to be \"compiled\".\r\n",
        "@tf.function\r\n",
        "def train_step(images):\r\n",
        "    seed = tf.random.normal([BATCH_SIZE, SEED_SIZE])\r\n",
        "\r\n",
        "    with tf.GradientTape() as gen_tape, tf.GradientTape() as disc_tape:\r\n",
        "        generated_images = generator(seed, training=True)\r\n",
        "\r\n",
        "        real_output = discriminator(images, training=True)\r\n",
        "        fake_output = discriminator(generated_images, training=True)\r\n",
        "\r\n",
        "        gen_loss = generator_loss(fake_output)\r\n",
        "        disc_loss = discriminator_loss(real_output, fake_output)\r\n",
        "\r\n",
        "        gradients_of_generator = gen_tape.gradient(gen_loss, generator.trainable_variables)\r\n",
        "        gradients_of_discriminator = disc_tape.gradient(disc_loss, discriminator.trainable_variables)\r\n",
        "\r\n",
        "        generator_optimizer.apply_gradients(zip(gradients_of_generator, generator.trainable_variables))\r\n",
        "        discriminator_optimizer.apply_gradients(zip(gradients_of_discriminator, discriminator.trainable_variables))\r\n",
        "    return gen_loss, disc_loss"
      ],
      "execution_count": 14,
      "outputs": []
    },
    {
      "cell_type": "code",
      "metadata": {
        "id": "9d7R-Mq09p5e"
      },
      "source": [
        "def train(dataset, epochs):\r\n",
        "    fixed_seed = np.random.normal(0, 1, (PREVIEW_ROWS * PREVIEW_COLS, SEED_SIZE))\r\n",
        "\r\n",
        "    start = time.time()\r\n",
        "\r\n",
        "    for epoch in range(epochs):\r\n",
        "        epoch_start = time.time()\r\n",
        "\r\n",
        "        gen_loss_list = []\r\n",
        "        disc_loss_list = []\r\n",
        "\r\n",
        "        for image_batch in dataset:\r\n",
        "            t = train_step(image_batch)\r\n",
        "            gen_loss_list.append(t[0])\r\n",
        "            disc_loss_list.append(t[1])\r\n",
        "\r\n",
        "        g_loss = sum(gen_loss_list)/len(gen_loss_list)\r\n",
        "        d_loss = sum(disc_loss_list)/len(disc_loss_list)\r\n",
        "\r\n",
        "        epoch_elapsed = time.time() - epoch_start\r\n",
        "        print(f'Epoch {epoch+1}, gen loss={g_loss}, disc loss={d_loss}, {hms_string(epoch_elapsed)}')\r\n",
        "        save_images(epoch, fixed_seed)\r\n",
        "\r\n",
        "    elapsed = time.time() - start\r\n",
        "    print(f'Training time: {hms_string(elapsed)}')"
      ],
      "execution_count": 16,
      "outputs": []
    },
    {
      "cell_type": "code",
      "metadata": {
        "id": "rxjQ3S59_sEb",
        "colab": {
          "base_uri": "https://localhost:8080/"
        },
        "outputId": "f1a10fd2-4b0e-4fab-9398-cd383e13efdf"
      },
      "source": [
        "train(train_dataset, EPOCHS)"
      ],
      "execution_count": 20,
      "outputs": [
        {
          "output_type": "stream",
          "text": [
            "Epoch 1, gen loss=1.7121869325637817, disc loss=0.9119104146957397, 0:00:13.09\n",
            "Epoch 2, gen loss=1.8407173156738281, disc loss=0.8401967287063599, 0:00:13.10\n",
            "Epoch 3, gen loss=1.9087973833084106, disc loss=0.7833436131477356, 0:00:13.23\n",
            "Epoch 4, gen loss=1.7944612503051758, disc loss=0.8935885429382324, 0:00:13.27\n",
            "Epoch 5, gen loss=1.7638709545135498, disc loss=0.8157468438148499, 0:00:13.38\n",
            "Epoch 6, gen loss=1.8593239784240723, disc loss=0.7650934457778931, 0:00:13.40\n",
            "Epoch 7, gen loss=1.987297773361206, disc loss=0.7218687534332275, 0:00:13.47\n",
            "Epoch 8, gen loss=2.038256883621216, disc loss=0.6896517872810364, 0:00:13.52\n",
            "Epoch 9, gen loss=2.1083743572235107, disc loss=0.660430908203125, 0:00:13.60\n",
            "Epoch 10, gen loss=2.1878700256347656, disc loss=0.6325815320014954, 0:00:13.61\n",
            "Epoch 11, gen loss=2.277514696121216, disc loss=0.5977888703346252, 0:00:13.64\n",
            "Epoch 12, gen loss=2.2766096591949463, disc loss=0.6004126667976379, 0:00:13.68\n",
            "Epoch 13, gen loss=2.411184310913086, disc loss=0.5716049671173096, 0:00:13.72\n",
            "Epoch 14, gen loss=2.434422254562378, disc loss=0.5541645884513855, 0:00:13.75\n",
            "Epoch 15, gen loss=2.3827176094055176, disc loss=0.5586627721786499, 0:00:13.81\n",
            "Epoch 16, gen loss=2.4688055515289307, disc loss=0.52061927318573, 0:00:13.81\n",
            "Epoch 17, gen loss=2.5753772258758545, disc loss=0.4996873736381531, 0:00:13.80\n",
            "Epoch 18, gen loss=2.6418399810791016, disc loss=0.4843212962150574, 0:00:13.79\n",
            "Epoch 19, gen loss=2.690020799636841, disc loss=0.48889783024787903, 0:00:13.80\n",
            "Epoch 20, gen loss=2.696220874786377, disc loss=0.4642839729785919, 0:00:13.84\n",
            "Epoch 21, gen loss=2.8003101348876953, disc loss=0.42004919052124023, 0:00:13.88\n",
            "Epoch 22, gen loss=2.91434383392334, disc loss=0.4107397794723511, 0:00:13.90\n",
            "Epoch 23, gen loss=3.023174285888672, disc loss=0.4039929211139679, 0:00:13.92\n",
            "Epoch 24, gen loss=3.1173901557922363, disc loss=0.3651881814002991, 0:00:13.88\n",
            "Epoch 25, gen loss=3.170898675918579, disc loss=0.3543923497200012, 0:00:13.87\n",
            "Epoch 26, gen loss=3.2356958389282227, disc loss=0.3400929570198059, 0:00:13.88\n",
            "Epoch 27, gen loss=3.283196449279785, disc loss=0.3514654338359833, 0:00:13.91\n",
            "Epoch 28, gen loss=3.4235928058624268, disc loss=0.33299165964126587, 0:00:13.93\n",
            "Epoch 29, gen loss=3.4787306785583496, disc loss=0.30954477190971375, 0:00:13.94\n",
            "Epoch 30, gen loss=3.6480019092559814, disc loss=0.27852824330329895, 0:00:13.94\n",
            "Epoch 31, gen loss=3.587876081466675, disc loss=0.2962260842323303, 0:00:13.94\n",
            "Epoch 32, gen loss=3.611729383468628, disc loss=0.2677221894264221, 0:00:13.94\n",
            "Epoch 33, gen loss=3.7266697883605957, disc loss=0.285083144903183, 0:00:13.96\n",
            "Epoch 34, gen loss=3.8757741451263428, disc loss=0.2416033297777176, 0:00:13.94\n",
            "Epoch 35, gen loss=3.950151205062866, disc loss=0.22650198638439178, 0:00:13.94\n",
            "Epoch 36, gen loss=4.0040974617004395, disc loss=0.2404107302427292, 0:00:13.93\n",
            "Epoch 37, gen loss=4.006685733795166, disc loss=0.2529183030128479, 0:00:13.94\n",
            "Epoch 38, gen loss=4.143189907073975, disc loss=0.22803448140621185, 0:00:13.96\n",
            "Epoch 39, gen loss=4.273451805114746, disc loss=0.23387014865875244, 0:00:13.95\n",
            "Epoch 40, gen loss=4.285701751708984, disc loss=0.1974031776189804, 0:00:13.97\n",
            "Epoch 41, gen loss=4.419970512390137, disc loss=0.20878490805625916, 0:00:13.95\n",
            "Epoch 42, gen loss=4.606502056121826, disc loss=0.17845042049884796, 0:00:13.96\n",
            "Epoch 43, gen loss=4.540499687194824, disc loss=0.18931330740451813, 0:00:13.96\n",
            "Epoch 44, gen loss=4.594695568084717, disc loss=0.18567366898059845, 0:00:13.97\n",
            "Epoch 45, gen loss=4.615999221801758, disc loss=0.19284476339817047, 0:00:13.97\n",
            "Epoch 46, gen loss=4.653625011444092, disc loss=0.19373634457588196, 0:00:13.98\n",
            "Epoch 47, gen loss=4.829849720001221, disc loss=0.16021929681301117, 0:00:13.96\n",
            "Epoch 48, gen loss=4.867912292480469, disc loss=0.1791374385356903, 0:00:13.90\n",
            "Epoch 49, gen loss=4.905860424041748, disc loss=0.17722328007221222, 0:00:13.90\n",
            "Epoch 50, gen loss=4.935714244842529, disc loss=0.1537526547908783, 0:00:13.88\n",
            "Training time: 0:11:49.08\n"
          ],
          "name": "stdout"
        }
      ]
    },
    {
      "cell_type": "code",
      "metadata": {
        "id": "kEk5xYMXjWFP"
      },
      "source": [
        "generator.save(os.path.join(DATA_PATH,\"face_generator.h5\"))"
      ],
      "execution_count": 21,
      "outputs": []
    }
  ]
}
