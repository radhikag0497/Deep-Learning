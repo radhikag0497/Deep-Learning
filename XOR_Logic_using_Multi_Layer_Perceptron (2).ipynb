{
  "nbformat": 4,
  "nbformat_minor": 0,
  "metadata": {
    "colab": {
      "name": "1b. XOR Logic using Multi Layer Perceptron.ipynb",
      "provenance": []
    },
    "kernelspec": {
      "name": "python3",
      "display_name": "Python 3"
    }
  },
  "cells": [
    {
      "cell_type": "code",
      "metadata": {
        "id": "BeYgnpvq5LVz"
      },
      "source": [
        "import numpy as np"
      ],
      "execution_count": null,
      "outputs": []
    },
    {
      "cell_type": "code",
      "metadata": {
        "id": "8E5TQ8D237b7"
      },
      "source": [
        "def sigmoid(x):\r\n",
        "    return 1.0/(1.0+np.exp(-x))\r\n",
        "\r\n",
        "def sigmoid_der(x):\r\n",
        "    return x*(1.0-x)\r\n",
        "\r\n",
        "class NN:\r\n",
        "    def __init__(self, inputs):\r\n",
        "        np.random.seed(0)\r\n",
        "        self.inputs = inputs\r\n",
        "        self.l = len(inputs)\r\n",
        "        self.li = len(inputs[0])\r\n",
        "        self.wi = np.random.random((self.li,self.l))\r\n",
        "        self.wh = np.random.random((self.l, 1))\r\n",
        "\r\n",
        "    def predict(self, input):\r\n",
        "        x1 = sigmoid(np.dot(inputs, self.wi))\r\n",
        "        x2 = sigmoid(np.dot(x1, self.wh))\r\n",
        "        return x2\r\n",
        "\r\n",
        "    def training(self, inputs, output, iter):\r\n",
        "        for i in range(iter):\r\n",
        "            l0 = inputs\r\n",
        "            l1 = sigmoid(np.dot(l0, self.wi))\r\n",
        "            l2 = sigmoid(np.dot(l1, self.wh))\r\n",
        "            l2_err = output - l2\r\n",
        "            l2_delta = np.multiply(l2_err, sigmoid_der(l2))\r\n",
        "\r\n",
        "            l1_err =  np.dot(l2_delta, self.wh.T)\r\n",
        "            l1_delta = np.multiply(l1_err, sigmoid_der(l1))\r\n",
        "            \r\n",
        "            self.wi += np.dot(l0.T, l1_delta)\r\n",
        "            self.wh += np.dot(l1.T, l2_delta)\r\n"
      ],
      "execution_count": null,
      "outputs": []
    },
    {
      "cell_type": "code",
      "metadata": {
        "colab": {
          "base_uri": "https://localhost:8080/"
        },
        "id": "WLMGONvl4zIb",
        "outputId": "fd6d7d2e-a4ff-4a21-8f3b-c5b945ab47b2"
      },
      "source": [
        "inputs = np.array([[0,0],[0,1],[1,0],[1,1]])\r\n",
        "output = np.array([[0],[1],[1],[0]])\r\n",
        "x = NN(inputs)\r\n",
        "\r\n",
        "print('Before Training',x.predict(inputs))\r\n",
        "x.training(inputs, output, 3000)\r\n",
        "print('After Training',x.predict(inputs))"
      ],
      "execution_count": null,
      "outputs": [
        {
          "output_type": "stream",
          "text": [
            "Before Training [[0.79147876]\n",
            " [0.84425143]\n",
            " [0.84745419]\n",
            " [0.88254685]]\n",
            "After Training [[0.05259579]\n",
            " [0.96378788]\n",
            " [0.96089988]\n",
            " [0.02574551]]\n"
          ],
          "name": "stdout"
        }
      ]
    }
  ]
}