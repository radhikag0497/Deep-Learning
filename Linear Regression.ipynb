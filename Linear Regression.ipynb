{
 "cells": [
  {
   "cell_type": "code",
   "execution_count": 1,
   "metadata": {},
   "outputs": [],
   "source": [
    "import pandas as pd\n",
    "import matplotlib.pyplot as plt  \n",
    "from sklearn.linear_model import LinearRegression  \n",
    "import numpy as np\n",
    "from sklearn.metrics import mean_squared_error   "
   ]
  },
  {
   "cell_type": "code",
   "execution_count": 2,
   "metadata": {},
   "outputs": [],
   "source": [
    "#### Your Code Goes Here #### \n",
    "\n",
    "## Step 1: Load Data from CSV File ####\n",
    "dataframe = pd.read_csv('student_scores.csv')"
   ]
  },
  {
   "cell_type": "code",
   "execution_count": 3,
   "metadata": {},
   "outputs": [
    {
     "data": {
      "text/plain": [
       "[<matplotlib.lines.Line2D at 0x215ee80aa30>]"
      ]
     },
     "execution_count": 3,
     "metadata": {},
     "output_type": "execute_result"
    },
    {
     "data": {
      "image/png": "[encoded data removed]",
      "text/plain": [
       "<Figure size 432x288 with 1 Axes>"
      ]
     },
     "metadata": {
      "needs_background": "light"
     },
     "output_type": "display_data"
    }
   ],
   "source": [
    "## Step 2: Plot the Data ####\n",
    "X = dataframe['Hours'].values.reshape(-1,1) # dataframe['Hours'].values -> convert it to numoy array\n",
    "Y = dataframe['Scores'].values.reshape(-1,1)\n",
    "\n",
    "\n",
    "plt.plot(X, Y, 'o')"
   ]
  },
  {
   "cell_type": "code",
   "execution_count": 4,
   "metadata": {},
   "outputs": [],
   "source": [
    "## Step 3: Build a Linear Regression Model ####\n",
    "X_train, Y_train = X[:20], Y[:20]\n",
    "X_test , Y_test = X[19:], Y[19:]\n"
   ]
  },
  {
   "cell_type": "code",
   "execution_count": 5,
   "metadata": {},
   "outputs": [
    {
     "name": "stdout",
     "output_type": "stream",
     "text": [
      "[[2.3]\n",
      " [5. ]\n",
      " [3.2]\n",
      " [8.5]\n",
      " [3.5]\n",
      " [1.5]\n",
      " [9.2]\n",
      " [5.5]\n",
      " [8.3]\n",
      " [2.7]\n",
      " [7.7]\n",
      " [5.9]\n",
      " [4.5]\n",
      " [3.4]\n",
      " [1.1]\n",
      " [8.9]\n",
      " [2.5]\n",
      " [1.9]\n",
      " [6.1]\n",
      " [7.4]] [[7.4]\n",
      " [2.7]\n",
      " [4.8]\n",
      " [3.7]\n",
      " [6.8]\n",
      " [7.4]]\n"
     ]
    }
   ],
   "source": [
    "print(X_train, X_test)"
   ]
  },
  {
   "cell_type": "code",
   "execution_count": 6,
   "metadata": {},
   "outputs": [
    {
     "data": {
      "text/plain": [
       "LinearRegression()"
      ]
     },
     "execution_count": 6,
     "metadata": {},
     "output_type": "execute_result"
    }
   ],
   "source": [
    "model = LinearRegression()\n",
    "model.fit(X_train, Y_train)"
   ]
  },
  {
   "cell_type": "code",
   "execution_count": 7,
   "metadata": {},
   "outputs": [
    {
     "data": {
      "image/png": "[encoded data removed]",
      "text/plain": [
       "<Figure size 432x288 with 1 Axes>"
      ]
     },
     "metadata": {
      "needs_background": "light"
     },
     "output_type": "display_data"
    }
   ],
   "source": [
    "## Step 4: Plot the Regression line ####\n",
    "regression_line = model.predict(X)\n",
    "\n",
    "plt.plot(X, regression_line)\n",
    "plt.plot(X_train, Y_train, 'o')\n",
    "plt.plot(X_test, Y_test, 'o')\n",
    "plt.show()"
   ]
  },
  {
   "cell_type": "code",
   "execution_count": 12,
   "metadata": {},
   "outputs": [],
   "source": [
    "## Step 5: Make Predictions on Test Data ####\n",
    "y_predicted = model.predict(X_test)"
   ]
  },
  {
   "cell_type": "code",
   "execution_count": 13,
   "metadata": {},
   "outputs": [
    {
     "name": "stdout",
     "output_type": "stream",
     "text": [
      "MSE: 37.17352125874756\n"
     ]
    },
    {
     "data": {
      "text/plain": [
       "(array([[7.4],\n",
       "        [2.7],\n",
       "        [4.8],\n",
       "        [3.7],\n",
       "        [6.8],\n",
       "        [7.4]]),\n",
       " array([[69],\n",
       "        [30],\n",
       "        [54],\n",
       "        [33],\n",
       "        [70],\n",
       "        [85]], dtype=int64),\n",
       " array([[73.11395923],\n",
       "        [28.48998852],\n",
       "        [48.42835841],\n",
       "        [37.98445037],\n",
       "        [67.41728212],\n",
       "        [73.11395923]]))"
      ]
     },
     "execution_count": 13,
     "metadata": {},
     "output_type": "execute_result"
    }
   ],
   "source": [
    "## Step 6: Estimate Error ####\n",
    "print('MSE:', mean_squared_error(Y_test,y_predicted))\n",
    "\n",
    "X_test, Y_test, y_predicted"
   ]
  }
 ],
 "metadata": {
  "kernelspec": {
   "display_name": "Python 3",
   "language": "python",
   "name": "python3"
  },
  "language_info": {
   "codemirror_mode": {
    "name": "ipython",
    "version": 3
   },
   "file_extension": ".py",
   "mimetype": "text/x-python",
   "name": "python",
   "nbconvert_exporter": "python",
   "pygments_lexer": "ipython3",
   "version": "3.8.6"
  }
 },
 "nbformat": 4,
 "nbformat_minor": 4
}
