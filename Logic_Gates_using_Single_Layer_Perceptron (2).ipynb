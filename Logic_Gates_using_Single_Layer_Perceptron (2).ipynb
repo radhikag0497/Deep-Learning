{
  "nbformat": 4,
  "nbformat_minor": 0,
  "metadata": {
    "colab": {
      "name": "1a. Logic Gates using Single Layer Perceptron.ipynb",
      "provenance": [],
      "collapsed_sections": []
    },
    "kernelspec": {
      "name": "python3",
      "display_name": "Python 3"
    }
  },
  "cells": [
    {
      "cell_type": "code",
      "metadata": {
        "id": "EVCm0SGpPh2q"
      },
      "source": [
        "import numpy as np\r\n",
        "import pandas as pd\r\n",
        "from matplotlib import pyplot as plt"
      ],
      "execution_count": null,
      "outputs": []
    },
    {
      "cell_type": "code",
      "metadata": {
        "id": "YA8xoi-TX3rY"
      },
      "source": [
        "def sl_Perceptron(b, X, y, epochs, eta):\r\n",
        "  z = b\r\n",
        "  bw = np.abs(np.random.normal(loc = 0.0, scale = 0.1 ,size = 1))\r\n",
        "  weight_matric = []\r\n",
        "  w_d = np.array([0, 0])\r\n",
        "  w = np.abs(np.random.normal(loc = 0.0, scale = 0.1 ,size = 2))\r\n",
        "  w_n = w\r\n",
        "  for k in range(epochs):\r\n",
        "    for i in range(len(X)):\r\n",
        "      z = np.dot(X[i], w_n) + bw\r\n",
        "      y_p = np.where(z > 0, 1, -1)\r\n",
        "      w_d = eta*(y[i] - y_p)*X[i]\r\n",
        "      w_n = w_n + w_d\r\n",
        "      bw = bw + eta*(y[i] - y_p)\r\n",
        "  return w_n, bw\r\n",
        "\r\n",
        "def predict(x,weights, b):\r\n",
        "  print('b:',b)\r\n",
        "  out = np.where(np.dot(x, weights) + b > 0.0 , 1, -1)\r\n",
        "  print('Predicted value:', out)\r\n",
        "  return out"
      ],
      "execution_count": null,
      "outputs": []
    },
    {
      "cell_type": "code",
      "metadata": {
        "colab": {
          "base_uri": "https://localhost:8080/",
          "height": 435
        },
        "id": "o0QTzyVuPzpI",
        "outputId": "8d922848-249b-4c0c-8937-3c37683f660e"
      },
      "source": [
        "# AND Gate\r\n",
        "input = np.array([[-1,-1],[-1,1],[1,-1],[1,1]])\r\n",
        "y = np.array([-1,-1,-1,1])\r\n",
        "b = 1\r\n",
        "epochs = 500\r\n",
        "output_weights, b_w = sl_Perceptron(b, input, y, epochs, 0.002)\r\n",
        "# print('weigths:', output_weights)\r\n",
        "for idx, val in enumerate(input):\r\n",
        "  print(val, ' True value:[',y[idx], end = ']  ')\r\n",
        "  predict(val, output_weights, b_w)\r\n",
        "\r\n",
        "\r\n",
        "# Plot\r\n",
        "\r\n",
        "plt.plot(epochs, output_weights[0], marker = 'o', color='red')\r\n",
        "plt.plot(epochs, output_weights[1], marker = 'o', color='blue')\r\n",
        "plt.xlabel('Epochs')\r\n",
        "plt.ylabel('Weights')\r\n",
        "plt.show()\r\n",
        "\r\n",
        "# xlabel = range(0,epochs)\r\n",
        "# ylabel = np.arange(0.0,1.0,0.1)\r\n",
        "# plt.figure()\r\n",
        "# plt.plot(xlabel, ylabel)\r\n",
        "\r\n",
        "# plt.xlabel('epochs') \r\n",
        "# plt.ylabel('weight')"
      ],
      "execution_count": null,
      "outputs": [
        {
          "output_type": "stream",
          "text": [
            "weigths: [0.11694503 0.11729871]\n",
            "[-1 -1]  True value:[ -1]  b: [-0.00424723]\n",
            "Predicted value: [-1]\n",
            "[-1  1]  True value:[ -1]  b: [-0.00424723]\n",
            "Predicted value: [-1]\n",
            "[ 1 -1]  True value:[ -1]  b: [-0.00424723]\n",
            "Predicted value: [-1]\n",
            "[1 1]  True value:[ 1]  b: [-0.00424723]\n",
            "Predicted value: [1]\n"
          ],
          "name": "stdout"
        },
        {
          "output_type": "display_data",
          "data": {
            "image/png": "[encoded data removed]",
            "text/plain": [
              "<Figure size 432x288 with 1 Axes>"
            ]
          },
          "metadata": {
            "tags": [],
            "needs_background": "light"
          }
        }
      ]
    },
    {
      "cell_type": "code",
      "metadata": {
        "colab": {
          "base_uri": "https://localhost:8080/"
        },
        "id": "XgSesXX4I9ms",
        "outputId": "717b6286-0229-4c60-c70d-e5e1c9747b2f"
      },
      "source": [
        "# OR Gate\r\n",
        "input = np.array([[-1,-1],[-1,1],[1,-1],[1,1]])\r\n",
        "y = np.array([-1,1,1,1])\r\n",
        "b = 1\r\n",
        "output_weights, b_w = sl_Perceptron(b, input, y, 500, 0.002)\r\n",
        "\r\n",
        "for idx, val in enumerate(input):\r\n",
        "  print(val, ' True value:[',y[idx], end = ']  ')\r\n",
        "  predict(val, output_weights, b_w)"
      ],
      "execution_count": null,
      "outputs": [
        {
          "output_type": "stream",
          "text": [
            "[-1 -1]  True value:[ -1]  b: [0.06947916]\n",
            "Predicted value: [-1]\n",
            "[-1  1]  True value:[ 1]  b: [0.06947916]\n",
            "Predicted value: [1]\n",
            "[ 1 -1]  True value:[ 1]  b: [0.06947916]\n",
            "Predicted value: [1]\n",
            "[1 1]  True value:[ 1]  b: [0.06947916]\n",
            "Predicted value: [1]\n"
          ],
          "name": "stdout"
        }
      ]
    },
    {
      "cell_type": "code",
      "metadata": {
        "colab": {
          "base_uri": "https://localhost:8080/"
        },
        "id": "1FWAVr1MJBOm",
        "outputId": "a4e70f34-6a4e-4f8a-9274-cb6bb4576442"
      },
      "source": [
        "# NOT Gate\r\n",
        "input = np.array([[-1,-1],[-1,1],[1,-1],[1,1]])\r\n",
        "y = np.array([1,-1,1,-1])\r\n",
        "b = 1\r\n",
        "output_weights, b_w = sl_Perceptron(b, input, y, 500, 0.002)\r\n",
        "\r\n",
        "for idx, val in enumerate(input):\r\n",
        "  print(val, ' True value:[',y[idx], end = ']  ')\r\n",
        "  predict(val, output_weights, b_w)"
      ],
      "execution_count": null,
      "outputs": [
        {
          "output_type": "stream",
          "text": [
            "[-1 -1]  True value:[ 1]  b: [0.00313076]\n",
            "Predicted value: [1]\n",
            "[-1  1]  True value:[ -1]  b: [0.00313076]\n",
            "Predicted value: [-1]\n",
            "[ 1 -1]  True value:[ 1]  b: [0.00313076]\n",
            "Predicted value: [1]\n",
            "[1 1]  True value:[ -1]  b: [0.00313076]\n",
            "Predicted value: [-1]\n"
          ],
          "name": "stdout"
        }
      ]
    },
    {
      "cell_type": "code",
      "metadata": {
        "colab": {
          "base_uri": "https://localhost:8080/"
        },
        "id": "rWH2aDlgXBPp",
        "outputId": "34a46779-f46b-4919-ec95-c158501348b0"
      },
      "source": [
        "# XOR Gate\r\n",
        "input = np.array([[-1,-1],[-1,1],[1,-1],[1,1]])\r\n",
        "y = np.array([-1,1,1,-1])\r\n",
        "b = 1\r\n",
        "output_weights, b_w = sl_Perceptron(b, input, y, 500, 0.002)\r\n",
        "\r\n",
        "for idx, val in enumerate(input):\r\n",
        "  print(val, ' True value:[',y[idx], end = ']  ')\r\n",
        "  predict(val, output_weights, b_w)"
      ],
      "execution_count": null,
      "outputs": [
        {
          "output_type": "stream",
          "text": [
            "[-1 -1]  True value:[ -1]  b: [0.00174666]\n",
            "Predicted value: [1]\n",
            "[-1  1]  True value:[ 1]  b: [0.00174666]\n",
            "Predicted value: [-1]\n",
            "[ 1 -1]  True value:[ 1]  b: [0.00174666]\n",
            "Predicted value: [1]\n",
            "[1 1]  True value:[ -1]  b: [0.00174666]\n",
            "Predicted value: [-1]\n"
          ],
          "name": "stdout"
        }
      ]
    }
  ]
}