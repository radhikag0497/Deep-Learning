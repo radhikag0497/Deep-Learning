{
  "nbformat": 4,
  "nbformat_minor": 0,
  "metadata": {
    "colab": {
      "name": "3a. Separate Classes in the Iris Database using SLP.ipynb",
      "provenance": []
    },
    "kernelspec": {
      "name": "python3",
      "display_name": "Python 3"
    }
  },
  "cells": [
    {
      "cell_type": "markdown",
      "metadata": {
        "id": "WIJmzTsJ2clo"
      },
      "source": [
        "**Perceptron Learning Algorithm**"
      ]
    },
    {
      "cell_type": "code",
      "metadata": {
        "id": "Fq9G_sIbz3EL"
      },
      "source": [
        "# perceptron.py\r\n",
        "import numpy as np\r\n",
        "import pandas as pd"
      ],
      "execution_count": null,
      "outputs": []
    },
    {
      "cell_type": "code",
      "metadata": {
        "id": "lNtfWnrI2rMi"
      },
      "source": [
        "class Perceptron(object):\r\n",
        "\r\n",
        "    def __init__(self, rate = 0.01, niter = 10):\r\n",
        "        self.rate = rate\r\n",
        "        self.niter = niter\r\n",
        "\r\n",
        "    def fit(self, X, y):\r\n",
        "        # X: training vectors, X.shape : [#samples, #features]\r\n",
        "        # y : Target values, y.shape : [#samples]\r\n",
        "\r\n",
        "        # weigths\r\n",
        "        self.weight = np.zeros(1 + X.shape[1])\r\n",
        "\r\n",
        "        # No. of misclassifications\r\n",
        "        self.errors = []\r\n",
        "\r\n",
        "        for i in range(self.niter):\r\n",
        "            err = 0\r\n",
        "            for xi, target in zip(X, y):\r\n",
        "                delta_w = self.rate * (target - self.predict(xi))\r\n",
        "                self.weight[1:] += delta_w * xi\r\n",
        "                self.weight[0] += delta_w\r\n",
        "                err += int(delta_w != 0.0)\r\n",
        "            self.errors.append(err)\r\n",
        "        return self\r\n",
        "\r\n",
        "\r\n",
        "    def net_input(self, X):\r\n",
        "        # Calculate net input\r\n",
        "        return np.dot(X, self.weight[1:]) + self.weight[0]\r\n",
        "\r\n",
        "    def predict(self, X):\r\n",
        "        # return class label after unit step\r\n",
        "        return np.where(self.net_input(X) >= 0.0, 1, -1)"
      ],
      "execution_count": null,
      "outputs": []
    },
    {
      "cell_type": "markdown",
      "metadata": {
        "id": "PLzjj1oc6ohc"
      },
      "source": [
        "**Preprocessing Iris data set**\r\n",
        "\r\n",
        "For our testing - Load two flower classes Setosa and Versicolor from the Iris data set"
      ]
    },
    {
      "cell_type": "code",
      "metadata": {
        "colab": {
          "base_uri": "https://localhost:8080/",
          "height": 202
        },
        "id": "w7aZjoc86i9l",
        "outputId": "2528edde-a078-4e45-d2a4-515022ac62b8"
      },
      "source": [
        "df = pd.read_csv('https://archive.ics.uci.edu/ml/machine-learning-databases/iris/iris.data', header = None)\r\n",
        "df.iloc[145:150,0:5]"
      ],
      "execution_count": null,
      "outputs": [
        {
          "output_type": "execute_result",
          "data": {
            "text/html": [
              "<div>\n",
              "<style scoped>\n",
              "    .dataframe tbody tr th:only-of-type {\n",
              "        vertical-align: middle;\n",
              "    }\n",
              "\n",
              "    .dataframe tbody tr th {\n",
              "        vertical-align: top;\n",
              "    }\n",
              "\n",
              "    .dataframe thead th {\n",
              "        text-align: right;\n",
              "    }\n",
              "</style>\n",
              "<table border=\"1\" class=\"dataframe\">\n",
              "  <thead>\n",
              "    <tr style=\"text-align: right;\">\n",
              "      <th></th>\n",
              "      <th>0</th>\n",
              "      <th>1</th>\n",
              "      <th>2</th>\n",
              "      <th>3</th>\n",
              "      <th>4</th>\n",
              "    </tr>\n",
              "  </thead>\n",
              "  <tbody>\n",
              "    <tr>\n",
              "      <th>145</th>\n",
              "      <td>6.7</td>\n",
              "      <td>3.0</td>\n",
              "      <td>5.2</td>\n",
              "      <td>2.3</td>\n",
              "      <td>Iris-virginica</td>\n",
              "    </tr>\n",
              "    <tr>\n",
              "      <th>146</th>\n",
              "      <td>6.3</td>\n",
              "      <td>2.5</td>\n",
              "      <td>5.0</td>\n",
              "      <td>1.9</td>\n",
              "      <td>Iris-virginica</td>\n",
              "    </tr>\n",
              "    <tr>\n",
              "      <th>147</th>\n",
              "      <td>6.5</td>\n",
              "      <td>3.0</td>\n",
              "      <td>5.2</td>\n",
              "      <td>2.0</td>\n",
              "      <td>Iris-virginica</td>\n",
              "    </tr>\n",
              "    <tr>\n",
              "      <th>148</th>\n",
              "      <td>6.2</td>\n",
              "      <td>3.4</td>\n",
              "      <td>5.4</td>\n",
              "      <td>2.3</td>\n",
              "      <td>Iris-virginica</td>\n",
              "    </tr>\n",
              "    <tr>\n",
              "      <th>149</th>\n",
              "      <td>5.9</td>\n",
              "      <td>3.0</td>\n",
              "      <td>5.1</td>\n",
              "      <td>1.8</td>\n",
              "      <td>Iris-virginica</td>\n",
              "    </tr>\n",
              "  </tbody>\n",
              "</table>\n",
              "</div>"
            ],
            "text/plain": [
              "       0    1    2    3               4\n",
              "145  6.7  3.0  5.2  2.3  Iris-virginica\n",
              "146  6.3  2.5  5.0  1.9  Iris-virginica\n",
              "147  6.5  3.0  5.2  2.0  Iris-virginica\n",
              "148  6.2  3.4  5.4  2.3  Iris-virginica\n",
              "149  5.9  3.0  5.1  1.8  Iris-virginica"
            ]
          },
          "metadata": {
            "tags": []
          },
          "execution_count": 22
        }
      ]
    },
    {
      "cell_type": "code",
      "metadata": {
        "colab": {
          "base_uri": "https://localhost:8080/",
          "height": 202
        },
        "id": "npoDoEmh61ql",
        "outputId": "fe5f393d-4226-4895-cba2-9d95c9e4608f"
      },
      "source": [
        "df.tail()"
      ],
      "execution_count": null,
      "outputs": [
        {
          "output_type": "execute_result",
          "data": {
            "text/html": [
              "<div>\n",
              "<style scoped>\n",
              "    .dataframe tbody tr th:only-of-type {\n",
              "        vertical-align: middle;\n",
              "    }\n",
              "\n",
              "    .dataframe tbody tr th {\n",
              "        vertical-align: top;\n",
              "    }\n",
              "\n",
              "    .dataframe thead th {\n",
              "        text-align: right;\n",
              "    }\n",
              "</style>\n",
              "<table border=\"1\" class=\"dataframe\">\n",
              "  <thead>\n",
              "    <tr style=\"text-align: right;\">\n",
              "      <th></th>\n",
              "      <th>0</th>\n",
              "      <th>1</th>\n",
              "      <th>2</th>\n",
              "      <th>3</th>\n",
              "      <th>4</th>\n",
              "    </tr>\n",
              "  </thead>\n",
              "  <tbody>\n",
              "    <tr>\n",
              "      <th>145</th>\n",
              "      <td>6.7</td>\n",
              "      <td>3.0</td>\n",
              "      <td>5.2</td>\n",
              "      <td>2.3</td>\n",
              "      <td>Iris-virginica</td>\n",
              "    </tr>\n",
              "    <tr>\n",
              "      <th>146</th>\n",
              "      <td>6.3</td>\n",
              "      <td>2.5</td>\n",
              "      <td>5.0</td>\n",
              "      <td>1.9</td>\n",
              "      <td>Iris-virginica</td>\n",
              "    </tr>\n",
              "    <tr>\n",
              "      <th>147</th>\n",
              "      <td>6.5</td>\n",
              "      <td>3.0</td>\n",
              "      <td>5.2</td>\n",
              "      <td>2.0</td>\n",
              "      <td>Iris-virginica</td>\n",
              "    </tr>\n",
              "    <tr>\n",
              "      <th>148</th>\n",
              "      <td>6.2</td>\n",
              "      <td>3.4</td>\n",
              "      <td>5.4</td>\n",
              "      <td>2.3</td>\n",
              "      <td>Iris-virginica</td>\n",
              "    </tr>\n",
              "    <tr>\n",
              "      <th>149</th>\n",
              "      <td>5.9</td>\n",
              "      <td>3.0</td>\n",
              "      <td>5.1</td>\n",
              "      <td>1.8</td>\n",
              "      <td>Iris-virginica</td>\n",
              "    </tr>\n",
              "  </tbody>\n",
              "</table>\n",
              "</div>"
            ],
            "text/plain": [
              "       0    1    2    3               4\n",
              "145  6.7  3.0  5.2  2.3  Iris-virginica\n",
              "146  6.3  2.5  5.0  1.9  Iris-virginica\n",
              "147  6.5  3.0  5.2  2.0  Iris-virginica\n",
              "148  6.2  3.4  5.4  2.3  Iris-virginica\n",
              "149  5.9  3.0  5.1  1.8  Iris-virginica"
            ]
          },
          "metadata": {
            "tags": []
          },
          "execution_count": 23
        }
      ]
    },
    {
      "cell_type": "code",
      "metadata": {
        "id": "7qJnoCnl7edb"
      },
      "source": [
        "df.head()"
      ],
      "execution_count": null,
      "outputs": []
    },
    {
      "cell_type": "markdown",
      "metadata": {
        "id": "eiwogroC75LK"
      },
      "source": [
        "extract the first 100 class labels that correspond to the 50 Iris-Setosa and 50 Iris-Versicolor flowers, respectively"
      ]
    },
    {
      "cell_type": "code",
      "metadata": {
        "colab": {
          "base_uri": "https://localhost:8080/"
        },
        "id": "pTxBhQdt7yEn",
        "outputId": "600863b2-2a15-4b41-c68d-2be18cff0ec3"
      },
      "source": [
        "import matplotlib.pyplot as plt\r\n",
        "\r\n",
        "y = df.iloc[0:100, 4].values\r\n",
        "y"
      ],
      "execution_count": null,
      "outputs": [
        {
          "output_type": "execute_result",
          "data": {
            "text/plain": [
              "array(['Iris-setosa', 'Iris-setosa', 'Iris-setosa', 'Iris-setosa',\n",
              "       'Iris-setosa', 'Iris-setosa', 'Iris-setosa', 'Iris-setosa',\n",
              "       'Iris-setosa', 'Iris-setosa', 'Iris-setosa', 'Iris-setosa',\n",
              "       'Iris-setosa', 'Iris-setosa', 'Iris-setosa', 'Iris-setosa',\n",
              "       'Iris-setosa', 'Iris-setosa', 'Iris-setosa', 'Iris-setosa',\n",
              "       'Iris-setosa', 'Iris-setosa', 'Iris-setosa', 'Iris-setosa',\n",
              "       'Iris-setosa', 'Iris-setosa', 'Iris-setosa', 'Iris-setosa',\n",
              "       'Iris-setosa', 'Iris-setosa', 'Iris-setosa', 'Iris-setosa',\n",
              "       'Iris-setosa', 'Iris-setosa', 'Iris-setosa', 'Iris-setosa',\n",
              "       'Iris-setosa', 'Iris-setosa', 'Iris-setosa', 'Iris-setosa',\n",
              "       'Iris-setosa', 'Iris-setosa', 'Iris-setosa', 'Iris-setosa',\n",
              "       'Iris-setosa', 'Iris-setosa', 'Iris-setosa', 'Iris-setosa',\n",
              "       'Iris-setosa', 'Iris-setosa', 'Iris-versicolor', 'Iris-versicolor',\n",
              "       'Iris-versicolor', 'Iris-versicolor', 'Iris-versicolor',\n",
              "       'Iris-versicolor', 'Iris-versicolor', 'Iris-versicolor',\n",
              "       'Iris-versicolor', 'Iris-versicolor', 'Iris-versicolor',\n",
              "       'Iris-versicolor', 'Iris-versicolor', 'Iris-versicolor',\n",
              "       'Iris-versicolor', 'Iris-versicolor', 'Iris-versicolor',\n",
              "       'Iris-versicolor', 'Iris-versicolor', 'Iris-versicolor',\n",
              "       'Iris-versicolor', 'Iris-versicolor', 'Iris-versicolor',\n",
              "       'Iris-versicolor', 'Iris-versicolor', 'Iris-versicolor',\n",
              "       'Iris-versicolor', 'Iris-versicolor', 'Iris-versicolor',\n",
              "       'Iris-versicolor', 'Iris-versicolor', 'Iris-versicolor',\n",
              "       'Iris-versicolor', 'Iris-versicolor', 'Iris-versicolor',\n",
              "       'Iris-versicolor', 'Iris-versicolor', 'Iris-versicolor',\n",
              "       'Iris-versicolor', 'Iris-versicolor', 'Iris-versicolor',\n",
              "       'Iris-versicolor', 'Iris-versicolor', 'Iris-versicolor',\n",
              "       'Iris-versicolor', 'Iris-versicolor', 'Iris-versicolor',\n",
              "       'Iris-versicolor', 'Iris-versicolor', 'Iris-versicolor'],\n",
              "      dtype=object)"
            ]
          },
          "metadata": {
            "tags": []
          },
          "execution_count": 24
        }
      ]
    },
    {
      "cell_type": "markdown",
      "metadata": {
        "id": "9viA1Y728PuR"
      },
      "source": [
        "we want to convert the class labels into the two integer class labels 1 (for Versicolor) and -1 (for Setosa) "
      ]
    },
    {
      "cell_type": "code",
      "metadata": {
        "colab": {
          "base_uri": "https://localhost:8080/"
        },
        "id": "QWT8FQTn8bAc",
        "outputId": "c6e6b922-ff79-4b82-a0de-e9a913fd4f91"
      },
      "source": [
        "y = np.where(y == 'Iris-setosa', -1, 1)\r\n",
        "y"
      ],
      "execution_count": null,
      "outputs": [
        {
          "output_type": "execute_result",
          "data": {
            "text/plain": [
              "array([-1, -1, -1, -1, -1, -1, -1, -1, -1, -1, -1, -1, -1, -1, -1, -1, -1,\n",
              "       -1, -1, -1, -1, -1, -1, -1, -1, -1, -1, -1, -1, -1, -1, -1, -1, -1,\n",
              "       -1, -1, -1, -1, -1, -1, -1, -1, -1, -1, -1, -1, -1, -1, -1, -1,  1,\n",
              "        1,  1,  1,  1,  1,  1,  1,  1,  1,  1,  1,  1,  1,  1,  1,  1,  1,\n",
              "        1,  1,  1,  1,  1,  1,  1,  1,  1,  1,  1,  1,  1,  1,  1,  1,  1,\n",
              "        1,  1,  1,  1,  1,  1,  1,  1,  1,  1,  1,  1,  1,  1,  1])"
            ]
          },
          "metadata": {
            "tags": []
          },
          "execution_count": 25
        }
      ]
    },
    {
      "cell_type": "markdown",
      "metadata": {
        "id": "N3wYnnFp9AdI"
      },
      "source": [
        "to extract the first feature column (sepal length) and the third feature column (petal length) of those 100 training samples"
      ]
    },
    {
      "cell_type": "code",
      "metadata": {
        "id": "-a3lZh3C8ugS"
      },
      "source": [
        "X = df.iloc[0:100, [0,3]].values\r\n",
        "X"
      ],
      "execution_count": null,
      "outputs": []
    },
    {
      "cell_type": "code",
      "metadata": {
        "colab": {
          "base_uri": "https://localhost:8080/",
          "height": 279
        },
        "id": "h5Zx-EBT9Xiu",
        "outputId": "f20e1223-01bb-41b2-83af-e472743169f7"
      },
      "source": [
        "plt.scatter(X[:50, 0], X[:50, 1], color = 'red', marker='o', label = 'setosa')\r\n",
        "plt.scatter(X[50:100,0], X[50:100, 1], color='blue', marker='x', label = 'versicolor')\r\n",
        "plt.xlabel('petal length')\r\n",
        "plt.ylabel('sepal length')\r\n",
        "plt.legend(loc = 'upper right')\r\n",
        "plt.show()"
      ],
      "execution_count": null,
      "outputs": [
        {
          "output_type": "display_data",
          "data": {
            "image/png": "[encoded data removed]",
            "text/plain": [
              "<Figure size 432x288 with 1 Axes>"
            ]
          },
          "metadata": {
            "tags": [],
            "needs_background": "light"
          }
        }
      ]
    },
    {
      "cell_type": "markdown",
      "metadata": {
        "id": "X10q-ZngCppC"
      },
      "source": [
        "**Training the Perceptron Model**"
      ]
    },
    {
      "cell_type": "markdown",
      "metadata": {
        "id": "FEDOvruZC1vZ"
      },
      "source": [
        " plot the misclassification error for each epoch to check if the algorithm converged and found a decision boundary that separates the two Iris flower classes"
      ]
    },
    {
      "cell_type": "code",
      "metadata": {
        "colab": {
          "base_uri": "https://localhost:8080/",
          "height": 279
        },
        "id": "mZeKvzSxC03o",
        "outputId": "0bbd051f-4f43-424e-a142-29a6de6f431f"
      },
      "source": [
        "# import Perceptron from perceptron.py\r\n",
        "\r\n",
        "# from perceptron import Perceptron\r\n",
        "pn = Perceptron(0.1, 10)\r\n",
        "pn.fit(X, y)\r\n",
        "plt.plot(range(1, len(pn.errors)+1), pn.errors, marker = 'o')\r\n",
        "plt.xlabel('Epochs')\r\n",
        "plt.ylabel('No. of misclassifications')\r\n",
        "plt.show()"
      ],
      "execution_count": null,
      "outputs": [
        {
          "output_type": "display_data",
          "data": {
            "image/png": "[encoded data removed]",
            "text/plain": [
              "<Figure size 432x288 with 1 Axes>"
            ]
          },
          "metadata": {
            "tags": [],
            "needs_background": "light"
          }
        }
      ]
    },
    {
      "cell_type": "markdown",
      "metadata": {
        "id": "bhLz348tC0FU"
      },
      "source": [
        "Our perceptron converged after the sixth epoch. we are able to classify training samples perfectly\r\n",
        "\r\n",
        "**Visualize the decision boundaries**"
      ]
    },
    {
      "cell_type": "code",
      "metadata": {
        "id": "gXie-93GCu_-"
      },
      "source": [
        "from matplotlib.colors import ListedColormap\r\n",
        "def plot_decision_regions(X, y, classifier, resolution=0.02):\r\n",
        "    # setup marker generator and color map\r\n",
        "    markers = ('s','x','o','^','v')\r\n",
        "    colors = ('red','blue','lightgreen','gray','cyan')\r\n",
        "    cmap = ListedColormap(colors[:len(np.unique(y))])\r\n",
        "\r\n",
        "    # plot the decision surface\r\n",
        "    x1_min, x1_max = X[:, 0].min() - 1, X[:, 0].max() + 1\r\n",
        "    x2_min, x2_max = X[:, 1].min() - 1, X[:, 1].max() + 1\r\n",
        "    xx1, xx2 = np.meshgrid(np.arange(x1_min, x1_max, resolution), np.arange(x2_min, x2_max, resolution))\r\n",
        "    Z = classifier.predict(np.array([xx1.ravel(), xx2.ravel()]).T)\r\n",
        "    Z = Z.reshape(xx1.shape)\r\n",
        "    plt.contourf(xx1, xx2, Z, alpha=0.4, cmap=cmap)\r\n",
        "    plt.xlim(xx1.min(), xx1.max())\r\n",
        "    plt.ylim(xx2.min(), xx2.max())\r\n",
        "\r\n",
        "    # plot class samples\r\n",
        "    for idx, cl in enumerate(np.unique(y)):\r\n",
        "        plt.scatter(x = X[y == cl, 0], y = X[y == cl, 1], alpha=0.8, c=cmap(idx), marker=markers[idx], label=cl)"
      ],
      "execution_count": null,
      "outputs": []
    },
    {
      "cell_type": "markdown",
      "metadata": {
        "id": "Kom92FXrJmcQ"
      },
      "source": [
        "in above code:\r\n",
        "- we define a number of colors and markers and create a color map(ListedColormap)\r\n",
        "- we determine the minimum and maximum values for the two features and use those feature vectors to create a pair of grid arrays xx1 and xx2(meshgrid function)\r\n",
        "- we trained our perceptron classifier on two feature dimensions\r\n",
        "-  we need to flatten the grid arrays and create a matrix that has the same number of columns as the Iris training subset\r\n",
        "- use the predict method to predict the class labels Z of the corresponding grid points.\r\n",
        "- After reshaping the predicted class labels Z into a grid with the same dimensions as xx1 and xx2 , we can now draw a contour plot (matplotlib's contourf function) --> maps the different decision regions to different colors for each predicted class in the grid array:"
      ]
    },
    {
      "cell_type": "code",
      "metadata": {
        "colab": {
          "base_uri": "https://localhost:8080/",
          "height": 334
        },
        "id": "0SO3nZAdJUM1",
        "outputId": "faa067d1-e056-4f24-b835-b41890b41863"
      },
      "source": [
        "plot_decision_regions(X, y, classifier=pn)\r\n",
        "plt.xlabel('sepal length(cm)')\r\n",
        "plt.ylabel('petal length(cm)')\r\n",
        "plt.legend(loc='upper left')\r\n",
        "plt.show()"
      ],
      "execution_count": null,
      "outputs": [
        {
          "output_type": "stream",
          "text": [
            "*c* argument looks like a single numeric RGB or RGBA sequence, which should be avoided as value-mapping will have precedence in case its length matches with *x* & *y*.  Please use the *color* keyword-argument or provide a 2-D array with a single row if you intend to specify the same RGB or RGBA value for all points.\n",
            "*c* argument looks like a single numeric RGB or RGBA sequence, which should be avoided as value-mapping will have precedence in case its length matches with *x* & *y*.  Please use the *color* keyword-argument or provide a 2-D array with a single row if you intend to specify the same RGB or RGBA value for all points.\n"
          ],
          "name": "stderr"
        },
        {
          "output_type": "display_data",
          "data": {
            "image/png": "[encoded data removed]",
            "text/plain": [
              "<Figure size 432x288 with 1 Axes>"
            ]
          },
          "metadata": {
            "tags": [],
            "needs_background": "light"
          }
        }
      ]
    },
    {
      "cell_type": "markdown",
      "metadata": {
        "id": "pDMcBwEFLbKC"
      },
      "source": [
        "The perceptron learned a decision boundary that was able to classify all flower samples in the Iris training subset perfectly.\r\n",
        "\r\n",
        "- but convergence is one of the biggest problems of the perceptron."
      ]
    }
  ]
}